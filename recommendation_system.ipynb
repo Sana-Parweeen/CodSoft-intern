{
  "nbformat": 4,
  "nbformat_minor": 0,
  "metadata": {
    "colab": {
      "provenance": []
    },
    "kernelspec": {
      "name": "python3",
      "display_name": "Python 3"
    },
    "language_info": {
      "name": "python"
    }
  },
  "cells": [
    {
      "cell_type": "code",
      "execution_count": 2,
      "metadata": {
        "colab": {
          "base_uri": "https://localhost:8080/"
        },
        "id": "lw4Pm39_MMuB",
        "outputId": "350939d6-bbec-4402-eb68-89fe909de415"
      },
      "outputs": [
        {
          "output_type": "stream",
          "name": "stdout",
          "text": [
            "Enter your preference (e.g., action, comedy, horror, sci-fi): sci-fi\n",
            "Top recommendations:\n",
            "1.Alice 2.sysphus 3.the silent sea\n"
          ]
        }
      ],
      "source": [
        "data = [\n",
        "    {\n",
        "        'Title': '1.vegabond, 2.the K2 3.healer',\n",
        "        'Genre': 'action',\n",
        "        'Description': 'Action-packed thriller'\n",
        "    },\n",
        "    {\n",
        "        'Title': '1.welcome to waikiki 2. business proposal',\n",
        "        'Genre': 'comedy',\n",
        "        'Description': 'Hilarious comedy'\n",
        "    },\n",
        "    {\n",
        "        'Title': '1.Alice 2.sysphus 3.the silent sea',\n",
        "        'Genre': 'sci-fi',\n",
        "        'Description': 'Exciting sci-fi movie'\n",
        "    },\n",
        "    {\n",
        "        'Title': '1.thirst 2. Alive 3.train to busan',\n",
        "        'Genre': 'horror',\n",
        "        'Description':'scary and thriller'\n",
        "    }\n",
        "]\n",
        "\n",
        "\n",
        "def cosine_similarity(str1, str2):\n",
        "\n",
        "    words1 = str1.split()\n",
        "    words2 = str2.split()\n",
        "\n",
        "\n",
        "    word_set = set(words1).union(set(words2))\n",
        "\n",
        "\n",
        "    dot_product = sum([words1.count(word) * words2.count(word) for word in word_set])\n",
        "    magnitude1 = sum([words1.count(word) ** 2 for word in word_set]) ** 0.5\n",
        "    magnitude2 = sum([words2.count(word) ** 2 for word in word_set]) ** 0.5\n",
        "\n",
        "\n",
        "    if magnitude1 == 0 or magnitude2 == 0:\n",
        "        return 0\n",
        "    else:\n",
        "        return dot_product / (magnitude1 * magnitude2)\n",
        "\n",
        "\n",
        "user_preference = input(\"Enter your preference (e.g., action, comedy, horror, sci-fi): \")\n",
        "\n",
        "\n",
        "similarities = []\n",
        "for item in data:\n",
        "    if item['Genre'] == user_preference:\n",
        "        similarity_score = cosine_similarity(item['Description'], user_preference)\n",
        "        similarities.append((item['Title'], similarity_score))\n",
        "\n",
        "\n",
        "similarities.sort(key=lambda x: x[1], reverse=True)\n",
        "\n",
        "\n",
        "top_recommendations = similarities[0:3] if len(similarities) >= 3 else similarities\n",
        "\n",
        "\n",
        "if not top_recommendations:\n",
        "    print(\"No recommendations found for your preference.\")\n",
        "else:\n",
        "    print(\"Top recommendations:\")\n",
        "    for title, similarity in top_recommendations:\n",
        "        print(title)"
      ]
    }
  ]
}