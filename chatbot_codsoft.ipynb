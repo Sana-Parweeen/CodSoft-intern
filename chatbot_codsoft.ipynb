{
  "nbformat": 4,
  "nbformat_minor": 0,
  "metadata": {
    "colab": {
      "provenance": []
    },
    "kernelspec": {
      "name": "python3",
      "display_name": "Python 3"
    },
    "language_info": {
      "name": "python"
    }
  },
  "cells": [
    {
      "cell_type": "code",
      "execution_count": 1,
      "metadata": {
        "colab": {
          "base_uri": "https://localhost:8080/"
        },
        "id": "ozwdWycdODI4",
        "outputId": "0990b811-8668-4718-d038-79086f685f95"
      },
      "outputs": [
        {
          "output_type": "stream",
          "name": "stdout",
          "text": [
            "Chatbot: Hi there! I'm ChatBot. Feel free to ask me questions.\n",
            "You: what is the capital of india\n",
            "Chatbot: The capital of India is New Delhi.\n",
            "You: how are you\n",
            "Chatbot: I'm fine, thank you for asking. How may I assist you?\n",
            "You: who invented the first computer\n",
            "Chatbot: The first computer was invented by Charles Babbage.\n",
            "You: kill\n",
            "Chatbot: I'm sorry, I don't have an answer for that.\n",
            "You: exit\n",
            "Chatbot: Goodbye!\n"
          ]
        }
      ],
      "source": [
        "def chatbot_response(user_input):\n",
        "    if \"what is your name\" in user_input.lower():\n",
        "        return \"I am ChatBot, here to assist you!\"\n",
        "    elif \"how are you\" in user_input.lower():\n",
        "        return \"I'm fine, thank you for asking. How may I assist you?\"\n",
        "    elif \"what is the capital of india\" in user_input.lower():\n",
        "        return \"The capital of India is New Delhi.\"\n",
        "    elif \"who built you\" in user_input.lower():\n",
        "        return \"I was built by Sana Parween from Srinivas University.\"\n",
        "    elif \"how do you work\" in user_input.lower():\n",
        "        return \"I work on a basic program based on conditonal statements(if else statements)\"\n",
        "    elif \"who invented the first computer\" in user_input.lower():\n",
        "        return \"The first computer was invented by Charles Babbage.\"\n",
        "    elif \"tell me a joke\" in user_input.lower():\n",
        "        return \"Sure, here's one: My ex left me so I stole his wheel chair... Guess who came crawling back to me.\"\n",
        "    elif \"how can I contact support\" in user_input.lower():\n",
        "        return \"To contact support, please visit our website or call our helpline at 123-456-7890.\"\n",
        "    else:\n",
        "        return \"I'm sorry, I don't have an answer for that.\"\n",
        "\n",
        "print(\"Chatbot: Hi there! I'm ChatBot. Feel free to ask me questions.\")\n",
        "\n",
        "while True:\n",
        "    user_input = input(\"You: \")\n",
        "    if user_input.lower() == \"exit\":\n",
        "        print(\"Chatbot: Goodbye!\")\n",
        "        break\n",
        "    response = chatbot_response(user_input)\n",
        "    print(\"Chatbot:\", response)"
      ]
    }
  ]
}